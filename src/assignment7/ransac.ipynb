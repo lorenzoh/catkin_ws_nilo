{
 "cells": [
  {
   "cell_type": "code",
   "execution_count": 1,
   "metadata": {},
   "outputs": [],
   "source": [
    "import numpy as np\n",
    "import matplotlib.pyplot as plt\n",
    "import seaborn as sns\n",
    "sns.set()\n",
    "sns.set_style(\"darkgrid\")\n",
    "%matplotlib inline"
   ]
  },
  {
   "cell_type": "code",
   "execution_count": 2,
   "metadata": {},
   "outputs": [],
   "source": [
    "class LineModel:\n",
    "    # The minimum number of coefficients needed to estimate a model\n",
    "    n_minimum_coeffs = 2\n",
    "    \n",
    "    @classmethod\n",
    "    def fit(cls, data):\n",
    "        xs, ys = data[:,1], data[:,0]\n",
    "        mx, my = np.mean(xs), np.mean(ys)\n",
    "        \n",
    "        variance = np.sum((xs - mx) * (ys - my))\n",
    "        covariance = np.sum((xs - mx)**2)\n",
    "        m = variance / covariance\n",
    "        b = my - m*mx\n",
    "        \n",
    "        return m, b\n",
    "    \n",
    "    @classmethod\n",
    "    def predict(cls, x, params):\n",
    "        m, b = params\n",
    "        return m*x + b\n",
    "    \n",
    "    @classmethod\n",
    "    def loss(cls, data, params):\n",
    "        \"\"\"Calculate Mean Squared Error on `data` for `params = (m, b)`\"\"\"\n",
    "        if data.ndim == 2:\n",
    "            x = data[:,1]\n",
    "            y_true = data[:,0]\n",
    "            y_pred = cls.predict(x, params)\n",
    "        else:\n",
    "            x = data[1]\n",
    "            y_true = data[0]\n",
    "            y_pred = cls.predict(x, params)\n",
    "        return np.mean((y_true - y_pred)**2)"
   ]
  },
  {
   "cell_type": "code",
   "execution_count": 3,
   "metadata": {},
   "outputs": [],
   "source": [
    "def ransac(data, model, n_iterations, threshold, percentage_inliers):\n",
    "    params = []\n",
    "    consensus_sizes = []\n",
    "    \n",
    "    for _ in range(n_iterations):\n",
    "        \n",
    "        subset = np.random.permutation(data)[:model.n_minimum_coeffs]\n",
    "        params_subset = model.fit(subset)\n",
    "        losses = [model.loss(p, params_subset) for p in data]\n",
    "        \n",
    "        consensus_set = np.array([p for (p, loss) in zip(data, losses) if loss < threshold])\n",
    "        consensus_size = len(consensus_set)\n",
    "        \n",
    "        if consensus_size / len(data) < percentage_inliers or consensus_size < model.n_minimum_coeffs:\n",
    "            continue\n",
    "            \n",
    "        params_consensus = model.fit(consensus_set)\n",
    "        params.append(params_consensus)\n",
    "        consensus_sizes.append(consensus_size)\n",
    "    \n",
    "    return params[np.argmax(consensus_sizes)]\n",
    "    \n",
    "    return params, consensus_sizes\n",
    "    "
   ]
  },
  {
   "cell_type": "code",
   "execution_count": 4,
   "metadata": {},
   "outputs": [],
   "source": [
    "POINTS = np.array([\n",
    "    [0, 0],\n",
    "    [1, 1],\n",
    "    [2, 2],\n",
    "    [1.1, 1],\n",
    "    [3, 0],\n",
    "    [4, 4],\n",
    "    [4, 6],\n",
    "    [8, 4]\n",
    "])"
   ]
  },
  {
   "cell_type": "code",
   "execution_count": 5,
   "metadata": {},
   "outputs": [],
   "source": [
    "m, b = ransac(POINTS, LineModel, 10, .5, 0)"
   ]
  },
  {
   "cell_type": "code",
   "execution_count": 6,
   "metadata": {},
   "outputs": [],
   "source": [
    "def plot_regression(data, m, b):\n",
    "    plt.scatter(POINTS[:,1], POINTS[:,0])\n",
    "    xs = np.linspace(np.min(POINTS[:,1]), np.max(POINTS[:,1]))\n",
    "    ys = [m*x + b for x in xs]\n",
    "    plt.plot(xs, ys, color=\"r\")"
   ]
  },
  {
   "cell_type": "code",
   "execution_count": 7,
   "metadata": {},
   "outputs": [
    {
     "data": {
      "image/png": "[encoded data removed]",
      "text/plain": [
       "<Figure size 432x288 with 1 Axes>"
      ]
     },
     "metadata": {
      "needs_background": "light"
     },
     "output_type": "display_data"
    }
   ],
   "source": [
    "plot_regression(POINTS, m, b)"
   ]
  }
 ],
 "metadata": {
  "kernelspec": {
   "display_name": "Python 3",
   "language": "python",
   "name": "python3"
  },
  "language_info": {
   "codemirror_mode": {
    "name": "ipython",
    "version": 3
   },
   "file_extension": ".py",
   "mimetype": "text/x-python",
   "name": "python",
   "nbconvert_exporter": "python",
   "pygments_lexer": "ipython3",
   "version": "3.7.4"
  }
 },
 "nbformat": 4,
 "nbformat_minor": 4
}
